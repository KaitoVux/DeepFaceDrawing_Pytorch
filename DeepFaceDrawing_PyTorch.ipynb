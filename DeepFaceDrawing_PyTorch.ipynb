{
  "nbformat": 4,
  "nbformat_minor": 0,
  "metadata": {
    "accelerator": "GPU",
    "colab": {
      "name": "DeepFaceDrawing-PyTorch.ipynb",
      "provenance": [],
      "collapsed_sections": []
    },
    "kernelspec": {
      "display_name": "Python 3",
      "name": "python3"
    },
    "language_info": {
      "name": "python"
    }
  },
  "cells": [
    {
      "cell_type": "code",
      "metadata": {
        "colab": {
          "base_uri": "https://localhost:8080/"
        },
        "id": "CjwT-_qqiKRv",
        "outputId": "94511dd8-e533-4e23-d014-aabfad28c6c1"
      },
      "source": [
        "!nvidia-smi"
      ],
      "execution_count": null,
      "outputs": [
        {
          "output_type": "stream",
          "text": [
            "Sun Apr 18 08:29:55 2021       \n",
            "+-----------------------------------------------------------------------------+\n",
            "| NVIDIA-SMI 460.67       Driver Version: 460.32.03    CUDA Version: 11.2     |\n",
            "|-------------------------------+----------------------+----------------------+\n",
            "| GPU  Name        Persistence-M| Bus-Id        Disp.A | Volatile Uncorr. ECC |\n",
            "| Fan  Temp  Perf  Pwr:Usage/Cap|         Memory-Usage | GPU-Util  Compute M. |\n",
            "|                               |                      |               MIG M. |\n",
            "|===============================+======================+======================|\n",
            "|   0  Tesla P100-PCIE...  Off  | 00000000:00:04.0 Off |                    0 |\n",
            "| N/A   41C    P0    29W / 250W |      0MiB / 16280MiB |      0%      Default |\n",
            "|                               |                      |                  N/A |\n",
            "+-------------------------------+----------------------+----------------------+\n",
            "                                                                               \n",
            "+-----------------------------------------------------------------------------+\n",
            "| Processes:                                                                  |\n",
            "|  GPU   GI   CI        PID   Type   Process name                  GPU Memory |\n",
            "|        ID   ID                                                   Usage      |\n",
            "|=============================================================================|\n",
            "|  No running processes found                                                 |\n",
            "+-----------------------------------------------------------------------------+\n"
          ],
          "name": "stdout"
        }
      ]
    },
    {
      "cell_type": "code",
      "metadata": {
        "colab": {
          "base_uri": "https://localhost:8080/"
        },
        "id": "puwDsvQYLFxZ",
        "outputId": "e7932263-c1cf-4141-a110-c30c4cce2780"
      },
      "source": [
        "!python -m pip install jittor==1.2.2.09"
      ],
      "execution_count": null,
      "outputs": [
        {
          "output_type": "stream",
          "text": [
            "Collecting jittor==1.2.2.09\n",
            "\u001b[?25l  Downloading https://files.pythonhosted.org/packages/d7/57/a56deb408e7b0e21e7949643e65c77565ab8a04319e72ff06781ed0030f5/jittor-1.2.2.9.tar.gz (1.6MB)\n",
            "\u001b[K     |████████████████████████████████| 1.6MB 8.1MB/s \n",
            "\u001b[?25hCollecting pybind11\n",
            "\u001b[?25l  Downloading https://files.pythonhosted.org/packages/8d/43/7339dbabbc2793718d59703aace4166f53c29ee1c202f6ff5bf8a26c4d91/pybind11-2.6.2-py2.py3-none-any.whl (191kB)\n",
            "\u001b[K     |████████████████████████████████| 194kB 35.4MB/s \n",
            "\u001b[?25hRequirement already satisfied: numpy in /usr/local/lib/python3.7/dist-packages (from jittor==1.2.2.09) (1.19.5)\n",
            "Requirement already satisfied: tqdm in /usr/local/lib/python3.7/dist-packages (from jittor==1.2.2.09) (4.41.1)\n",
            "Requirement already satisfied: pillow in /usr/local/lib/python3.7/dist-packages (from jittor==1.2.2.09) (7.1.2)\n",
            "Requirement already satisfied: astunparse in /usr/local/lib/python3.7/dist-packages (from jittor==1.2.2.09) (1.6.3)\n",
            "Requirement already satisfied: wheel<1.0,>=0.23.0 in /usr/local/lib/python3.7/dist-packages (from astunparse->jittor==1.2.2.09) (0.36.2)\n",
            "Requirement already satisfied: six<2.0,>=1.6.1 in /usr/local/lib/python3.7/dist-packages (from astunparse->jittor==1.2.2.09) (1.15.0)\n",
            "Building wheels for collected packages: jittor\n",
            "  Building wheel for jittor (setup.py) ... \u001b[?25l\u001b[?25hdone\n",
            "  Created wheel for jittor: filename=jittor-1.2.2.9-cp37-none-any.whl size=2196160 sha256=fded23d0914eaa4392fc587e79c98d54f9aaa329c436c2f900a0fdd3ae5ac56c\n",
            "  Stored in directory: /root/.cache/pip/wheels/6e/c3/64/cb9634436769209137fac3257830ae5e933437a0a387fa0c59\n",
            "Successfully built jittor\n",
            "Installing collected packages: pybind11, jittor\n",
            "Successfully installed jittor-1.2.2.9 pybind11-2.6.2\n"
          ],
          "name": "stdout"
        }
      ]
    },
    {
      "cell_type": "code",
      "metadata": {
        "colab": {
          "base_uri": "https://localhost:8080/"
        },
        "id": "9_YHCbfWfqAq",
        "outputId": "2a9db8b3-2dfd-4ed8-c260-e83117a5ea06"
      },
      "source": [
        "!git clone -b scratch --single-branch https://github.com/peterpans2013/DeepFaceDrawing.git\n",
        "#git clone https://github.com/peterpans2013/DeepFaceDrawing.git"
      ],
      "execution_count": null,
      "outputs": [
        {
          "output_type": "stream",
          "text": [
            "Cloning into 'DeepFaceDrawing'...\n",
            "remote: Enumerating objects: 52, done.\u001b[K\n",
            "remote: Counting objects: 100% (52/52), done.\u001b[K\n",
            "remote: Compressing objects: 100% (38/38), done.\u001b[K\n",
            "remote: Total 52 (delta 17), reused 49 (delta 14), pack-reused 0\u001b[K\n",
            "Unpacking objects: 100% (52/52), done.\n"
          ],
          "name": "stdout"
        }
      ]
    },
    {
      "cell_type": "code",
      "metadata": {
        "colab": {
          "base_uri": "https://localhost:8080/"
        },
        "id": "r9-qhA_of4IP",
        "outputId": "e55c0b30-4499-468c-eb01-09140ff3a035"
      },
      "source": [
        "%cd DeepFaceDrawing"
      ],
      "execution_count": null,
      "outputs": [
        {
          "output_type": "stream",
          "text": [
            "/content/DeepFaceDrawing\n"
          ],
          "name": "stdout"
        }
      ]
    },
    {
      "cell_type": "code",
      "metadata": {
        "id": "ISY58bSomq8H"
      },
      "source": [
        "%mv ./heat/bg.jpg ./heat/.jpg"
      ],
      "execution_count": null,
      "outputs": []
    },
    {
      "cell_type": "code",
      "metadata": {
        "colab": {
          "base_uri": "https://localhost:8080/"
        },
        "id": "bnayvsKgmsNZ",
        "outputId": "d9fbb641-776c-47a6-aebd-60227083ca5e"
      },
      "source": [
        "%rm -rf Params\n",
        "%mkdir Params\n",
        "!gdown --id 1XqE4qnM6h8S6d1hHyDVbtrOsOGs7hJ0_\n",
        "!unzip Params.zip -d /content/DeepFaceDrawing/Params"
      ],
      "execution_count": null,
      "outputs": [
        {
          "output_type": "stream",
          "text": [
            "Downloading...\n",
            "From: https://drive.google.com/uc?id=1XqE4qnM6h8S6d1hHyDVbtrOsOGs7hJ0_\n",
            "To: /content/DeepFaceDrawing/Params.zip\n",
            "2.42GB [00:28, 85.1MB/s]\n",
            "Archive:  Params.zip\n",
            "   creating: /content/DeepFaceDrawing/Params/AE_whole/\n",
            "  inflating: /content/DeepFaceDrawing/Params/AE_whole/eye1_feature.bin  \n",
            "  inflating: /content/DeepFaceDrawing/Params/AE_whole/eye2_feature.bin  \n",
            "  inflating: /content/DeepFaceDrawing/Params/AE_whole/female_eye1_feature.bin  \n",
            "  inflating: /content/DeepFaceDrawing/Params/AE_whole/female_eye2_feature.bin  \n",
            "  inflating: /content/DeepFaceDrawing/Params/AE_whole/female_mouth_feature.bin  \n",
            "  inflating: /content/DeepFaceDrawing/Params/AE_whole/female_nose_feature.bin  \n",
            "  inflating: /content/DeepFaceDrawing/Params/AE_whole/female__feature.bin  \n",
            "  inflating: /content/DeepFaceDrawing/Params/AE_whole/latest_net_decoder_eye1_image.pkl  \n",
            "  inflating: /content/DeepFaceDrawing/Params/AE_whole/latest_net_decoder_eye2_image.pkl  \n",
            "  inflating: /content/DeepFaceDrawing/Params/AE_whole/latest_net_decoder_mouth_image.pkl  \n",
            "  inflating: /content/DeepFaceDrawing/Params/AE_whole/latest_net_decoder_nose_image.pkl  \n",
            "  inflating: /content/DeepFaceDrawing/Params/AE_whole/latest_net_decoder__image.pkl  \n",
            "  inflating: /content/DeepFaceDrawing/Params/AE_whole/latest_net_encoder_.pkl  \n",
            "  inflating: /content/DeepFaceDrawing/Params/AE_whole/latest_net_encoder_eye1.pkl  \n",
            "  inflating: /content/DeepFaceDrawing/Params/AE_whole/latest_net_encoder_eye2.pkl  \n",
            "  inflating: /content/DeepFaceDrawing/Params/AE_whole/latest_net_encoder_mouth.pkl  \n",
            "  inflating: /content/DeepFaceDrawing/Params/AE_whole/latest_net_encoder_nose.pkl  \n",
            "  inflating: /content/DeepFaceDrawing/Params/AE_whole/man_eye1_feature.bin  \n",
            "  inflating: /content/DeepFaceDrawing/Params/AE_whole/man_eye2_feature.bin  \n",
            "  inflating: /content/DeepFaceDrawing/Params/AE_whole/man_mouth_feature.bin  \n",
            "  inflating: /content/DeepFaceDrawing/Params/AE_whole/man_nose_feature.bin  \n",
            "  inflating: /content/DeepFaceDrawing/Params/AE_whole/man__feature.bin  \n",
            "  inflating: /content/DeepFaceDrawing/Params/AE_whole/mouth_feature.bin  \n",
            "  inflating: /content/DeepFaceDrawing/Params/AE_whole/nose_feature.bin  \n",
            "  inflating: /content/DeepFaceDrawing/Params/AE_whole/_base.bin  \n",
            "  inflating: /content/DeepFaceDrawing/Params/AE_whole/_feature.bin  \n",
            "   creating: /content/DeepFaceDrawing/Params/Combine/\n",
            "  inflating: /content/DeepFaceDrawing/Params/Combine/latest_net_DE_.pkl  \n",
            "  inflating: /content/DeepFaceDrawing/Params/Combine/latest_net_DE_eye1.pkl  \n",
            "  inflating: /content/DeepFaceDrawing/Params/Combine/latest_net_DE_eye2.pkl  \n",
            "  inflating: /content/DeepFaceDrawing/Params/Combine/latest_net_DE_mouth.pkl  \n",
            "  inflating: /content/DeepFaceDrawing/Params/Combine/latest_net_DE_nose.pkl  \n",
            "  inflating: /content/DeepFaceDrawing/Params/Combine/latest_net_G.pkl  \n"
          ],
          "name": "stdout"
        }
      ]
    },
    {
      "cell_type": "code",
      "metadata": {
        "colab": {
          "base_uri": "https://localhost:8080/"
        },
        "id": "BKuAsHgYkdHl",
        "outputId": "3be26294-cbd5-48c4-abd9-a8f9da25ae1a"
      },
      "source": [
        "!python3.7 model.py"
      ],
      "execution_count": null,
      "outputs": [
        {
          "output_type": "stream",
          "text": [
            "[i 0418 08:50:42.556875 24 __init__.py:249] Found g++(7.5.0) at /usr/bin/g++.\n",
            "[i 0418 08:50:42.567079 24 lock.py:58] Create lock file:/root/.cache/jittor/default/jittor.lock\n",
            "[i 0418 08:50:42.573981 24 compiler.py:846] Jittor(1.2.2.9) src: /usr/local/lib/python3.7/dist-packages/jittor\n",
            "[i 0418 08:50:42.574125 24 compiler.py:847] cache_path: /root/.cache/jittor/default/g++\n",
            "[i 0418 08:50:42.595009 24 __init__.py:249] Found /usr/local/cuda/bin/nvcc(11.0.221) at /usr/local/cuda/bin/nvcc.\n",
            "[i 0418 08:50:42.646344 24 __init__.py:249] Found addr2line(2.30) at /usr/bin/addr2line.\n",
            "[i 0418 08:50:42.701836 24 compiler.py:896] pybind_include: -I/usr/include/python3.7m -I/usr/local/lib/python3.7/dist-packages/pybind11/include\n",
            "[i 0418 08:50:42.745160 24 compiler.py:898] extension_suffix: .cpython-37m-x86_64-linux-gnu.so\n",
            "[i 0418 08:50:42.745351 24 compiler.py:28] Create cache dir: /root/.cache/jittor/default/g++/jit\n",
            "[i 0418 08:50:42.745560 24 compiler.py:28] Create cache dir: /root/.cache/jittor/default/g++/obj_files\n",
            "[i 0418 08:50:42.745728 24 compiler.py:28] Create cache dir: /root/.cache/jittor/default/g++/gen\n",
            "[i 0418 08:50:42.745903 24 compiler.py:28] Create cache dir: /root/.cache/jittor/default/g++/checkpoints\n",
            "\u001b[38;5;2m[i 0418 08:51:04.624544 00 __init__.py:168] Total mem: 12.72GB, using 4 procs for compiling.\u001b[m\n"
          ],
          "name": "stdout"
        }
      ]
    }
  ]
}